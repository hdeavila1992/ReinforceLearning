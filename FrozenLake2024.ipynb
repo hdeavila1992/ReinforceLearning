{
  "nbformat": 4,
  "nbformat_minor": 0,
  "metadata": {
    "colab": {
      "provenance": [],
      "authorship_tag": "ABX9TyNKA1ZUTwiFgPI9bzYlLTuk",
      "include_colab_link": true
    },
    "kernelspec": {
      "name": "python3",
      "display_name": "Python 3"
    },
    "language_info": {
      "name": "python"
    }
  },
  "cells": [
    {
      "cell_type": "markdown",
      "metadata": {
        "id": "view-in-github",
        "colab_type": "text"
      },
      "source": [
        "<a href=\"https://colab.research.google.com/github/hdeavila1992/ReinforceLearning/blob/main/FrozenLake2024.ipynb\" target=\"_parent\"><img src=\"https://colab.research.google.com/assets/colab-badge.svg\" alt=\"Open In Colab\"/></a>"
      ]
    },
    {
      "cell_type": "code",
      "execution_count": null,
      "metadata": {
        "colab": {
          "base_uri": "https://localhost:8080/"
        },
        "id": "wD_pXcuLtR4Q",
        "outputId": "48a46eac-2285-426e-f7f3-363cc0c521cc"
      },
      "outputs": [
        {
          "output_type": "stream",
          "name": "stdout",
          "text": [
            "Collecting pyglet\n",
            "  Downloading pyglet-2.0.10-py3-none-any.whl (858 kB)\n",
            "\u001b[2K     \u001b[90m━━━━━━━━━━━━━━━━━━━━━━━━━━━━━━━━━━━━━━━━\u001b[0m \u001b[32m858.3/858.3 kB\u001b[0m \u001b[31m5.1 MB/s\u001b[0m eta \u001b[36m0:00:00\u001b[0m\n",
            "\u001b[?25hInstalling collected packages: pyglet\n",
            "Successfully installed pyglet-2.0.10\n",
            "Requirement already satisfied: pygame in /usr/local/lib/python3.10/dist-packages (2.5.2)\n",
            "pygame 2.5.2 (SDL 2.28.2, Python 3.10.12)\n",
            "Hello from the pygame community. https://www.pygame.org/contribute.html\n",
            "Collecting renderlab\n",
            "  Downloading renderlab-0.1.20230421184216-py3-none-any.whl (4.0 kB)\n",
            "Requirement already satisfied: moviepy in /usr/local/lib/python3.10/dist-packages (from renderlab) (1.0.3)\n",
            "Collecting gymnasium (from renderlab)\n",
            "  Downloading gymnasium-0.29.1-py3-none-any.whl (953 kB)\n",
            "\u001b[2K     \u001b[90m━━━━━━━━━━━━━━━━━━━━━━━━━━━━━━━━━━━━━━━━\u001b[0m \u001b[32m953.9/953.9 kB\u001b[0m \u001b[31m2.6 MB/s\u001b[0m eta \u001b[36m0:00:00\u001b[0m\n",
            "\u001b[?25hRequirement already satisfied: numpy>=1.21.0 in /usr/local/lib/python3.10/dist-packages (from gymnasium->renderlab) (1.23.5)\n",
            "Requirement already satisfied: cloudpickle>=1.2.0 in /usr/local/lib/python3.10/dist-packages (from gymnasium->renderlab) (2.2.1)\n",
            "Requirement already satisfied: typing-extensions>=4.3.0 in /usr/local/lib/python3.10/dist-packages (from gymnasium->renderlab) (4.5.0)\n",
            "Collecting farama-notifications>=0.0.1 (from gymnasium->renderlab)\n",
            "  Downloading Farama_Notifications-0.0.4-py3-none-any.whl (2.5 kB)\n",
            "Requirement already satisfied: decorator<5.0,>=4.0.2 in /usr/local/lib/python3.10/dist-packages (from moviepy->renderlab) (4.4.2)\n",
            "Requirement already satisfied: tqdm<5.0,>=4.11.2 in /usr/local/lib/python3.10/dist-packages (from moviepy->renderlab) (4.66.1)\n",
            "Requirement already satisfied: requests<3.0,>=2.8.1 in /usr/local/lib/python3.10/dist-packages (from moviepy->renderlab) (2.31.0)\n",
            "Requirement already satisfied: proglog<=1.0.0 in /usr/local/lib/python3.10/dist-packages (from moviepy->renderlab) (0.1.10)\n",
            "Requirement already satisfied: imageio<3.0,>=2.5 in /usr/local/lib/python3.10/dist-packages (from moviepy->renderlab) (2.31.6)\n",
            "Requirement already satisfied: imageio-ffmpeg>=0.2.0 in /usr/local/lib/python3.10/dist-packages (from moviepy->renderlab) (0.4.9)\n",
            "Requirement already satisfied: pillow<10.1.0,>=8.3.2 in /usr/local/lib/python3.10/dist-packages (from imageio<3.0,>=2.5->moviepy->renderlab) (9.4.0)\n",
            "Requirement already satisfied: setuptools in /usr/local/lib/python3.10/dist-packages (from imageio-ffmpeg>=0.2.0->moviepy->renderlab) (67.7.2)\n",
            "Requirement already satisfied: charset-normalizer<4,>=2 in /usr/local/lib/python3.10/dist-packages (from requests<3.0,>=2.8.1->moviepy->renderlab) (3.3.2)\n",
            "Requirement already satisfied: idna<4,>=2.5 in /usr/local/lib/python3.10/dist-packages (from requests<3.0,>=2.8.1->moviepy->renderlab) (3.6)\n",
            "Requirement already satisfied: urllib3<3,>=1.21.1 in /usr/local/lib/python3.10/dist-packages (from requests<3.0,>=2.8.1->moviepy->renderlab) (2.0.7)\n",
            "Requirement already satisfied: certifi>=2017.4.17 in /usr/local/lib/python3.10/dist-packages (from requests<3.0,>=2.8.1->moviepy->renderlab) (2023.11.17)\n",
            "Installing collected packages: farama-notifications, gymnasium, renderlab\n",
            "Successfully installed farama-notifications-0.0.4 gymnasium-0.29.1 renderlab-0.1.20230421184216\n",
            "Collecting swig\n",
            "  Downloading swig-4.1.1.post1-py2.py3-none-manylinux_2_5_x86_64.manylinux1_x86_64.whl (1.8 MB)\n",
            "\u001b[2K     \u001b[90m━━━━━━━━━━━━━━━━━━━━━━━━━━━━━━━━━━━━━━━━\u001b[0m \u001b[32m1.8/1.8 MB\u001b[0m \u001b[31m10.0 MB/s\u001b[0m eta \u001b[36m0:00:00\u001b[0m\n",
            "\u001b[?25hInstalling collected packages: swig\n",
            "Successfully installed swig-4.1.1.post1\n",
            "Requirement already satisfied: gymnasium[box2d] in /usr/local/lib/python3.10/dist-packages (0.29.1)\n",
            "Requirement already satisfied: numpy>=1.21.0 in /usr/local/lib/python3.10/dist-packages (from gymnasium[box2d]) (1.23.5)\n",
            "Requirement already satisfied: cloudpickle>=1.2.0 in /usr/local/lib/python3.10/dist-packages (from gymnasium[box2d]) (2.2.1)\n",
            "Requirement already satisfied: typing-extensions>=4.3.0 in /usr/local/lib/python3.10/dist-packages (from gymnasium[box2d]) (4.5.0)\n",
            "Requirement already satisfied: farama-notifications>=0.0.1 in /usr/local/lib/python3.10/dist-packages (from gymnasium[box2d]) (0.0.4)\n",
            "Collecting box2d-py==2.3.5 (from gymnasium[box2d])\n",
            "  Downloading box2d-py-2.3.5.tar.gz (374 kB)\n",
            "\u001b[2K     \u001b[90m━━━━━━━━━━━━━━━━━━━━━━━━━━━━━━━━━━━━━━━━\u001b[0m \u001b[32m374.4/374.4 kB\u001b[0m \u001b[31m5.9 MB/s\u001b[0m eta \u001b[36m0:00:00\u001b[0m\n",
            "\u001b[?25h  Preparing metadata (setup.py) ... \u001b[?25l\u001b[?25hdone\n",
            "Requirement already satisfied: pygame>=2.1.3 in /usr/local/lib/python3.10/dist-packages (from gymnasium[box2d]) (2.5.2)\n",
            "Requirement already satisfied: swig==4.* in /usr/local/lib/python3.10/dist-packages (from gymnasium[box2d]) (4.1.1.post1)\n",
            "Building wheels for collected packages: box2d-py\n"
          ]
        }
      ],
      "source": [
        "#El pimer paso es instalar todo el ambiente necesario para que frozen lake pueda ejecutarse.\n",
        "!pip install pyglet\n",
        "!pip install pygame\n",
        "\n",
        "import os\n",
        "os.environ['SDL_VIDEODRIVER']='dummy'\n",
        "import pygame\n",
        "pygame.display.set_mode((640,480))\n",
        "\n",
        "!pip install renderlab\n",
        "\n",
        "!pip install swig\n",
        "!pip install gymnasium[box2d]"
      ]
    },
    {
      "cell_type": "code",
      "source": [
        "\"\"\"  Listo, ahora podemos ejecutar nuestro entorno de Lunalander.\n",
        "Este entorno no está entrenado, simplemente se utiliza para confirmar\n",
        "que los prerequisitos se han instalado correctamente. \"\"\"\n",
        "\n",
        "import gymnasium as gym\n",
        "import renderlab as rl\n",
        "\n",
        "# Cargamos el entorno \"FrozenLake-v1\"\n",
        "# \"map_name=\"4x4\"\" nos genera 16 celdas\n",
        "# \"is_slippery=True\" nos activa la politica estocástica\n",
        "# \"render_mode='rgb_array'\" es necesario para poder obtener un video de las insteracciones\n",
        "# del agente con el entorno al finalizar\n",
        "#env = gym.make('\"LunarLander-v2\"', render_mode='rgb_array')\n",
        "env = gym.make('FrozenLake-v1', map_name=\"4x4\", is_slippery=True, render_mode='rgb_array')\n",
        "\n",
        "env = rl.RenderFrame(env, \"./output\")\n",
        "# reinicializar el entorno, enviando el agente al estado 0 (inicio)\n",
        "observation, info = env.reset()\n",
        "# inicializar la variable p para guardar \"#\" de interacciones ejecutadas\n",
        "p = 0\n",
        "\n",
        "while True:\n",
        "    # Seleccionar una acción aleatoria\n",
        "    action = env.action_space.sample()\n",
        "    # Aplicar \"step\"\n",
        "    #\"step\" ejecuta una acción por parte del Agente dentro del Entorno.\n",
        "\n",
        "      #Como habrá una transición de estado, retorna:\n",
        "      #- observation (el nuevo estado, s')\n",
        "      #- reward (la recompensa obtenida, r)\n",
        "      #- done (\"True\" si el episodio terminó)\n",
        "      #- truncated (\"True\" si está atascado)\n",
        "      #- info (datos adicionales que dependen del entorno)\n",
        "    observation, reward, terminated, truncated, info = env.step(action)\n",
        "    # Aumentar contador de interacciones\n",
        "    p = p+1\n",
        "    if terminated or truncated:\n",
        "        break\n",
        "#mostrar acción tomada:\n",
        "print(action)\n",
        "# mostrar cantidad de iteraciones alcanzadas\n",
        "print(\"Numero de interacciones: \"+str(p))\n",
        "# Cargar video de interacciones\n",
        "env.play()"
      ],
      "metadata": {
        "colab": {
          "base_uri": "https://localhost:8080/",
          "height": 475
        },
        "id": "oQk6-Hu_tkK9",
        "outputId": "b84a2298-4d3e-45f2-804e-4a1660fce654"
      },
      "execution_count": null,
      "outputs": [
        {
          "output_type": "stream",
          "name": "stdout",
          "text": [
            "0\n",
            "Numero de interacciones: 22\n",
            "Moviepy - Building video temp-{start}.mp4.\n",
            "Moviepy - Writing video temp-{start}.mp4\n",
            "\n"
          ]
        },
        {
          "output_type": "stream",
          "name": "stderr",
          "text": [
            "\rt:   0%|          | 0/24 [00:00<?, ?it/s, now=None]WARNING:py.warnings:/usr/local/lib/python3.10/dist-packages/moviepy/video/io/ffmpeg_reader.py:123: UserWarning: Warning: in file ./output/1706377687.871717.mp4, 196608 bytes wanted but 0 bytes read,at frame 23/24, at time 0.77/0.77 sec. Using the last valid frame instead.\n",
            "  warnings.warn(\"Warning: in file %s, \"%(self.filename)+\n",
            "\n",
            "                                                   "
          ]
        },
        {
          "output_type": "stream",
          "name": "stdout",
          "text": [
            "Moviepy - Done !\n",
            "Moviepy - video ready temp-{start}.mp4\n"
          ]
        },
        {
          "output_type": "stream",
          "name": "stderr",
          "text": [
            "\r"
          ]
        },
        {
          "output_type": "display_data",
          "data": {
            "text/plain": [
              "<IPython.core.display.Video object>"
            ],
            "text/html": [
              "<video controls  >\n",
              " <source src=\"data:video/mp4;base64,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\" type=\"video/mp4\">\n",
              " Your browser does not support the video tag.\n",
              " </video>"
            ]
          },
          "metadata": {}
        }
      ]
    },
    {
      "cell_type": "code",
      "source": [
        "# Inicializa la tabla Q\n",
        "import numpy as np\n",
        "Q = np.zeros([env.observation_space.n, env.action_space.n])\n",
        "\n",
        "learning_rate = 0.1\n",
        "gamma = 0.95\n",
        "num_episodes = 7500\n",
        "\n",
        "for i in range(num_episodes):\n",
        "    s = env.reset()[0]\n",
        "    done = False\n",
        "    episode_reward = 0\n",
        "    while not done:\n",
        "        a = np.argmax(Q[s,:] + np.random.randn(1,env.action_space.n)*(1/(i+1)))\n",
        "        s_, recompensa, done,truncado,info = env.step(a)\n",
        "        Q[s,a] =np.nan_to_num(Q[s,a]+ learning_rate*(recompensa+ gamma*np.max(Q[s_,:])-Q[s,a] ))\n",
        "        s=s_\n",
        "\n"
      ],
      "metadata": {
        "id": "tOkV0q7wvXwA"
      },
      "execution_count": null,
      "outputs": []
    },
    {
      "cell_type": "code",
      "source": [
        "def run(Q):\n",
        "    #env= gym.make(\"FrozenLake-v1\",render_mode=\"human\")\n",
        "    env = gym.make('FrozenLake-v1', map_name=\"4x4\", is_slippery=True, render_mode='rgb_array')\n",
        "    env.reset()\n",
        "    s=0\n",
        "    limite=10\n",
        "    contador=0\n",
        "    while contador<limite:\n",
        "        action= np.argmax(Q[s,:])\n",
        "        #new_state, reward, done, four = env.step(action)\n",
        "        new_state,reward,done,other,info= env.step(action)\n",
        "        if done==True:\n",
        "            observation, info = env.reset()\n",
        "            s=0\n",
        "            break\n",
        "        else:\n",
        "            s=new_state\n",
        "    #print(new_state)\n",
        "        contador=+1\n",
        "    env.play()\n",
        "    #env.render()\n",
        "    #env.close()\n",
        "\n",
        "run(Q)\n",
        "\n"
      ],
      "metadata": {
        "id": "jDFHe243Kmcw"
      },
      "execution_count": null,
      "outputs": []
    },
    {
      "cell_type": "code",
      "source": [],
      "metadata": {
        "id": "9Zf4EgONNiS0"
      },
      "execution_count": null,
      "outputs": []
    }
  ]
}